{
 "cells": [
  {
   "cell_type": "code",
   "execution_count": 3,
   "metadata": {
    "collapsed": true
   },
   "outputs": [],
   "source": [
    "import pandas as pd\n",
    "import altair as alt"
   ]
  },
  {
   "cell_type": "code",
   "execution_count": 57,
   "outputs": [],
   "source": [
    "workers = pd.read_csv('./workers.csv')"
   ],
   "metadata": {
    "collapsed": false
   }
  },
  {
   "cell_type": "markdown",
   "source": [],
   "metadata": {
    "collapsed": false
   }
  },
  {
   "cell_type": "code",
   "execution_count": 69,
   "outputs": [
    {
     "name": "stderr",
     "output_type": "stream",
     "text": [
      "C:\\Users\\kaczm\\PycharmProjects\\staticticInPython\\venv\\lib\\site-packages\\altair\\utils\\core.py:317: FutureWarning: iteritems is deprecated and will be removed in a future version. Use .items instead.\n",
      "  for col_name, dtype in df.dtypes.iteritems():\n"
     ]
    },
    {
     "data": {
      "text/html": "\n<div id=\"altair-viz-586eeba3b7be4d0eb8052d472017b4c2\"></div>\n<script type=\"text/javascript\">\n  var VEGA_DEBUG = (typeof VEGA_DEBUG == \"undefined\") ? {} : VEGA_DEBUG;\n  (function(spec, embedOpt){\n    let outputDiv = document.currentScript.previousElementSibling;\n    if (outputDiv.id !== \"altair-viz-586eeba3b7be4d0eb8052d472017b4c2\") {\n      outputDiv = document.getElementById(\"altair-viz-586eeba3b7be4d0eb8052d472017b4c2\");\n    }\n    const paths = {\n      \"vega\": \"https://cdn.jsdelivr.net/npm//vega@5?noext\",\n      \"vega-lib\": \"https://cdn.jsdelivr.net/npm//vega-lib?noext\",\n      \"vega-lite\": \"https://cdn.jsdelivr.net/npm//vega-lite@4.17.0?noext\",\n      \"vega-embed\": \"https://cdn.jsdelivr.net/npm//vega-embed@6?noext\",\n    };\n\n    function maybeLoadScript(lib, version) {\n      var key = `${lib.replace(\"-\", \"\")}_version`;\n      return (VEGA_DEBUG[key] == version) ?\n        Promise.resolve(paths[lib]) :\n        new Promise(function(resolve, reject) {\n          var s = document.createElement('script');\n          document.getElementsByTagName(\"head\")[0].appendChild(s);\n          s.async = true;\n          s.onload = () => {\n            VEGA_DEBUG[key] = version;\n            return resolve(paths[lib]);\n          };\n          s.onerror = () => reject(`Error loading script: ${paths[lib]}`);\n          s.src = paths[lib];\n        });\n    }\n\n    function showError(err) {\n      outputDiv.innerHTML = `<div class=\"error\" style=\"color:red;\">${err}</div>`;\n      throw err;\n    }\n\n    function displayChart(vegaEmbed) {\n      vegaEmbed(outputDiv, spec, embedOpt)\n        .catch(err => showError(`Javascript Error: ${err.message}<br>This usually means there's a typo in your chart specification. See the javascript console for the full traceback.`));\n    }\n\n    if(typeof define === \"function\" && define.amd) {\n      requirejs.config({paths});\n      require([\"vega-embed\"], displayChart, err => showError(`Error loading script: ${err.message}`));\n    } else {\n      maybeLoadScript(\"vega\", \"5\")\n        .then(() => maybeLoadScript(\"vega-lite\", \"4.17.0\"))\n        .then(() => maybeLoadScript(\"vega-embed\", \"6\"))\n        .catch(showError)\n        .then(() => displayChart(vegaEmbed));\n    }\n  })({\"config\": {\"view\": {\"continuousWidth\": 400, \"continuousHeight\": 300}}, \"data\": {\"name\": \"data-3c863ffd17797a0681dcfcef5e10a43e\"}, \"mark\": {\"type\": \"bar\", \"orient\": \"vertical\"}, \"encoding\": {\"color\": {\"field\": \"counts\", \"type\": \"quantitative\"}, \"x\": {\"field\": \"date_of_employment\", \"type\": \"nominal\"}, \"y\": {\"field\": \"counts\", \"type\": \"quantitative\"}}, \"$schema\": \"https://vega.github.io/schema/vega-lite/v4.17.0.json\", \"datasets\": {\"data-3c863ffd17797a0681dcfcef5e10a43e\": [{\"Unnamed: 0\": 0, \"id\": 13077, \"name\": \"Biagio Montecchi\", \"team\": \"BurlyWood\", \"date_of_employment\": \"1998-02-09\", \"employment_type\": \"Full time\", \"counts\": 1}, {\"Unnamed: 0\": 671, \"id\": 23530, \"name\": \"Alphons Balla\", \"team\": \"OliveDrab\", \"date_of_employment\": \"2015-06-13\", \"employment_type\": \"Half time\", \"counts\": 1}, {\"Unnamed: 0\": 658, \"id\": 17748, \"name\": \"Antonino Perozzo-Gentileschi\", \"team\": \"MediumSeaGreen\", \"date_of_employment\": \"1990-03-03\", \"employment_type\": \"Half time\", \"counts\": 1}, {\"Unnamed: 0\": 659, \"id\": 38264, \"name\": \"Licia Rossi\", \"team\": \"OliveDrab\", \"date_of_employment\": \"2007-01-10\", \"employment_type\": \"Half time\", \"counts\": 1}, {\"Unnamed: 0\": 660, \"id\": 4065, \"name\": \"Paoletta Gabbana\", \"team\": \"Lime\", \"date_of_employment\": \"2009-06-15\", \"employment_type\": \"Half time\", \"counts\": 1}, {\"Unnamed: 0\": 661, \"id\": 33720, \"name\": \"Amleto Pisani\", \"team\": \"OliveDrab\", \"date_of_employment\": \"2000-03-03\", \"employment_type\": \"Half time\", \"counts\": 1}, {\"Unnamed: 0\": 662, \"id\": 39952, \"name\": \"Costanzo Tosto\", \"team\": \"MediumSeaGreen\", \"date_of_employment\": \"2009-06-20\", \"employment_type\": \"Half time\", \"counts\": 1}, {\"Unnamed: 0\": 663, \"id\": 23660, \"name\": \"Ferdinando Ricciardi\", \"team\": \"Lime\", \"date_of_employment\": \"1984-11-04\", \"employment_type\": \"Half time\", \"counts\": 1}, {\"Unnamed: 0\": 664, \"id\": 18564, \"name\": \"Dott. Federigo Borromeo\", \"team\": \"Lime\", \"date_of_employment\": \"1975-08-29\", \"employment_type\": \"Half time\", \"counts\": 1}, {\"Unnamed: 0\": 665, \"id\": 35760, \"name\": \"Amanda Bosio-Asmundo\", \"team\": \"Lime\", \"date_of_employment\": \"2022-03-09\", \"employment_type\": \"Half time\", \"counts\": 1}, {\"Unnamed: 0\": 666, \"id\": 13254, \"name\": \"Mercedes Falcone-Monaco\", \"team\": \"OliveDrab\", \"date_of_employment\": \"2005-06-20\", \"employment_type\": \"Half time\", \"counts\": 1}, {\"Unnamed: 0\": 667, \"id\": 3944, \"name\": \"Sig.ra Gemma Pignatti\", \"team\": \"OliveDrab\", \"date_of_employment\": \"2019-08-30\", \"employment_type\": \"Half time\", \"counts\": 1}, {\"Unnamed: 0\": 668, \"id\": 33252, \"name\": \"Gianluca Germano-Botticelli\", \"team\": \"BurlyWood\", \"date_of_employment\": \"2019-04-27\", \"employment_type\": \"Half time\", \"counts\": 1}, {\"Unnamed: 0\": 669, \"id\": 8800, \"name\": \"Sig.ra Ramona Zarlino\", \"team\": \"BurlyWood\", \"date_of_employment\": \"2013-05-09\", \"employment_type\": \"Half time\", \"counts\": 1}, {\"Unnamed: 0\": 670, \"id\": 24480, \"name\": \"Sole Poerio\", \"team\": \"Lime\", \"date_of_employment\": \"1993-05-10\", \"employment_type\": \"Half time\", \"counts\": 1}, {\"Unnamed: 0\": 672, \"id\": 31612, \"name\": \"Marta Dulbecco\", \"team\": \"OliveDrab\", \"date_of_employment\": \"1989-01-08\", \"employment_type\": \"Half time\", \"counts\": 1}, {\"Unnamed: 0\": 687, \"id\": 6156, \"name\": \"Giampiero Cherubini\", \"team\": \"Lime\", \"date_of_employment\": \"2021-09-02\", \"employment_type\": \"Half time\", \"counts\": 1}, {\"Unnamed: 0\": 673, \"id\": 15435, \"name\": \"Sig. Pier Rastelli\", \"team\": \"Lime\", \"date_of_employment\": \"1973-10-11\", \"employment_type\": \"Half time\", \"counts\": 1}, {\"Unnamed: 0\": 674, \"id\": 2276, \"name\": \"Dina Ariosto\", \"team\": \"Lime\", \"date_of_employment\": \"1975-04-27\", \"employment_type\": \"Half time\", \"counts\": 1}, {\"Unnamed: 0\": 675, \"id\": 1622, \"name\": \"Pierluigi Mazzini\", \"team\": \"MediumSeaGreen\", \"date_of_employment\": \"1993-01-05\", \"employment_type\": \"Half time\", \"counts\": 1}, {\"Unnamed: 0\": 676, \"id\": 10767, \"name\": \"Bianca Corbo\", \"team\": \"Lime\", \"date_of_employment\": \"2019-09-25\", \"employment_type\": \"Half time\", \"counts\": 1}, {\"Unnamed: 0\": 677, \"id\": 8476, \"name\": \"Beatrice Badoer\", \"team\": \"Lime\", \"date_of_employment\": \"1987-08-04\", \"employment_type\": \"Half time\", \"counts\": 1}, {\"Unnamed: 0\": 678, \"id\": 44800, \"name\": \"Daniele Pelli\", \"team\": \"Lime\", \"date_of_employment\": \"2008-06-28\", \"employment_type\": \"Half time\", \"counts\": 1}, {\"Unnamed: 0\": 679, \"id\": 24688, \"name\": \"Jacopo Fanucci\", \"team\": \"Lime\", \"date_of_employment\": \"1992-12-28\", \"employment_type\": \"Half time\", \"counts\": 1}, {\"Unnamed: 0\": 680, \"id\": 1798, \"name\": \"Dott. Carla Bernardini\", \"team\": \"BurlyWood\", \"date_of_employment\": \"1998-08-16\", \"employment_type\": \"Half time\", \"counts\": 1}]}}, {\"mode\": \"vega-lite\"});\n</script>",
      "text/plain": "alt.Chart(...)"
     },
     "execution_count": 69,
     "metadata": {},
     "output_type": "execute_result"
    }
   ],
   "source": [
    "# chart1\n",
    "data = pd.DataFrame(workers, columns=['date_of_employment'])\n",
    "data = pd.DataFrame(workers.value_counts(ascending=False).iloc[:25])\n",
    "alt.Chart(data.reset_index().rename(columns={0: \"counts\"})).mark_bar(orient='vertical').encode(\n",
    "    x='date_of_employment',\n",
    "    y='counts', color='counts'\n",
    ")"
   ],
   "metadata": {
    "collapsed": false
   }
  },
  {
   "cell_type": "code",
   "execution_count": 59,
   "outputs": [
    {
     "name": "stderr",
     "output_type": "stream",
     "text": [
      "C:\\Users\\kaczm\\PycharmProjects\\staticticInPython\\venv\\lib\\site-packages\\altair\\utils\\core.py:317: FutureWarning: iteritems is deprecated and will be removed in a future version. Use .items instead.\n",
      "  for col_name, dtype in df.dtypes.iteritems():\n"
     ]
    },
    {
     "data": {
      "text/html": "\n<div id=\"altair-viz-8f6051b988924e1ab072e8f6d5e88951\"></div>\n<script type=\"text/javascript\">\n  var VEGA_DEBUG = (typeof VEGA_DEBUG == \"undefined\") ? {} : VEGA_DEBUG;\n  (function(spec, embedOpt){\n    let outputDiv = document.currentScript.previousElementSibling;\n    if (outputDiv.id !== \"altair-viz-8f6051b988924e1ab072e8f6d5e88951\") {\n      outputDiv = document.getElementById(\"altair-viz-8f6051b988924e1ab072e8f6d5e88951\");\n    }\n    const paths = {\n      \"vega\": \"https://cdn.jsdelivr.net/npm//vega@5?noext\",\n      \"vega-lib\": \"https://cdn.jsdelivr.net/npm//vega-lib?noext\",\n      \"vega-lite\": \"https://cdn.jsdelivr.net/npm//vega-lite@4.17.0?noext\",\n      \"vega-embed\": \"https://cdn.jsdelivr.net/npm//vega-embed@6?noext\",\n    };\n\n    function maybeLoadScript(lib, version) {\n      var key = `${lib.replace(\"-\", \"\")}_version`;\n      return (VEGA_DEBUG[key] == version) ?\n        Promise.resolve(paths[lib]) :\n        new Promise(function(resolve, reject) {\n          var s = document.createElement('script');\n          document.getElementsByTagName(\"head\")[0].appendChild(s);\n          s.async = true;\n          s.onload = () => {\n            VEGA_DEBUG[key] = version;\n            return resolve(paths[lib]);\n          };\n          s.onerror = () => reject(`Error loading script: ${paths[lib]}`);\n          s.src = paths[lib];\n        });\n    }\n\n    function showError(err) {\n      outputDiv.innerHTML = `<div class=\"error\" style=\"color:red;\">${err}</div>`;\n      throw err;\n    }\n\n    function displayChart(vegaEmbed) {\n      vegaEmbed(outputDiv, spec, embedOpt)\n        .catch(err => showError(`Javascript Error: ${err.message}<br>This usually means there's a typo in your chart specification. See the javascript console for the full traceback.`));\n    }\n\n    if(typeof define === \"function\" && define.amd) {\n      requirejs.config({paths});\n      require([\"vega-embed\"], displayChart, err => showError(`Error loading script: ${err.message}`));\n    } else {\n      maybeLoadScript(\"vega\", \"5\")\n        .then(() => maybeLoadScript(\"vega-lite\", \"4.17.0\"))\n        .then(() => maybeLoadScript(\"vega-embed\", \"6\"))\n        .catch(showError)\n        .then(() => displayChart(vegaEmbed));\n    }\n  })({\"config\": {\"view\": {\"continuousWidth\": 400, \"continuousHeight\": 300}}, \"data\": {\"name\": \"data-7f69947e6f2ea86d7c04d9de1ed08f1e\"}, \"mark\": {\"type\": \"bar\", \"orient\": \"vertical\"}, \"encoding\": {\"color\": {\"field\": \"counts\", \"type\": \"quantitative\"}, \"x\": {\"field\": \"date_of_employment\", \"type\": \"quantitative\"}, \"y\": {\"field\": \"counts\", \"type\": \"quantitative\"}}, \"$schema\": \"https://vega.github.io/schema/vega-lite/v4.17.0.json\", \"datasets\": {\"data-7f69947e6f2ea86d7c04d9de1ed08f1e\": [{\"date_of_employment\": 1970, \"counts\": 14}, {\"date_of_employment\": 1971, \"counts\": 25}, {\"date_of_employment\": 1972, \"counts\": 16}, {\"date_of_employment\": 1973, \"counts\": 17}, {\"date_of_employment\": 1974, \"counts\": 24}, {\"date_of_employment\": 1975, \"counts\": 29}, {\"date_of_employment\": 1976, \"counts\": 20}, {\"date_of_employment\": 1977, \"counts\": 19}, {\"date_of_employment\": 1978, \"counts\": 12}, {\"date_of_employment\": 1979, \"counts\": 19}, {\"date_of_employment\": 1980, \"counts\": 16}, {\"date_of_employment\": 1981, \"counts\": 18}, {\"date_of_employment\": 1982, \"counts\": 15}, {\"date_of_employment\": 1983, \"counts\": 22}, {\"date_of_employment\": 1984, \"counts\": 23}, {\"date_of_employment\": 1985, \"counts\": 22}, {\"date_of_employment\": 1986, \"counts\": 19}, {\"date_of_employment\": 1987, \"counts\": 18}, {\"date_of_employment\": 1988, \"counts\": 20}, {\"date_of_employment\": 1989, \"counts\": 20}, {\"date_of_employment\": 1990, \"counts\": 17}, {\"date_of_employment\": 1991, \"counts\": 13}, {\"date_of_employment\": 1992, \"counts\": 20}, {\"date_of_employment\": 1993, \"counts\": 20}, {\"date_of_employment\": 1994, \"counts\": 16}, {\"date_of_employment\": 1995, \"counts\": 25}, {\"date_of_employment\": 1996, \"counts\": 17}, {\"date_of_employment\": 1997, \"counts\": 19}, {\"date_of_employment\": 1998, \"counts\": 19}, {\"date_of_employment\": 1999, \"counts\": 25}, {\"date_of_employment\": 2000, \"counts\": 20}, {\"date_of_employment\": 2001, \"counts\": 19}, {\"date_of_employment\": 2002, \"counts\": 22}, {\"date_of_employment\": 2003, \"counts\": 14}, {\"date_of_employment\": 2004, \"counts\": 15}, {\"date_of_employment\": 2005, \"counts\": 23}, {\"date_of_employment\": 2006, \"counts\": 20}, {\"date_of_employment\": 2007, \"counts\": 19}, {\"date_of_employment\": 2008, \"counts\": 14}, {\"date_of_employment\": 2009, \"counts\": 24}, {\"date_of_employment\": 2010, \"counts\": 16}, {\"date_of_employment\": 2011, \"counts\": 10}, {\"date_of_employment\": 2012, \"counts\": 15}, {\"date_of_employment\": 2013, \"counts\": 18}, {\"date_of_employment\": 2014, \"counts\": 15}, {\"date_of_employment\": 2015, \"counts\": 27}, {\"date_of_employment\": 2016, \"counts\": 27}, {\"date_of_employment\": 2017, \"counts\": 18}, {\"date_of_employment\": 2018, \"counts\": 20}, {\"date_of_employment\": 2019, \"counts\": 21}, {\"date_of_employment\": 2020, \"counts\": 10}, {\"date_of_employment\": 2021, \"counts\": 18}, {\"date_of_employment\": 2022, \"counts\": 16}]}}, {\"mode\": \"vega-lite\"});\n</script>",
      "text/plain": "alt.Chart(...)"
     },
     "execution_count": 59,
     "metadata": {},
     "output_type": "execute_result"
    }
   ],
   "source": [
    "# chart2\n",
    "data = pd.DataFrame(workers, columns=['date_of_employment'])\n",
    "data = data.groupby(data['date_of_employment'].map(lambda x: pd.Timestamp(x).year)).count()\n",
    "data = data.rename(columns={'date_of_employment': 'counts'})\n",
    "data[\"counts\"] = data[\"counts\"].astype('int32')\n",
    "data = data.reset_index(level=0)\n",
    "alt.Chart(data).mark_bar(orient='vertical').encode(\n",
    "    alt.X('date_of_employment'), y='counts', color='counts'\n",
    ")"
   ],
   "metadata": {
    "collapsed": false
   }
  },
  {
   "cell_type": "code",
   "execution_count": 60,
   "outputs": [
    {
     "name": "stderr",
     "output_type": "stream",
     "text": [
      "C:\\Users\\kaczm\\PycharmProjects\\staticticInPython\\venv\\lib\\site-packages\\altair\\utils\\core.py:317: FutureWarning: iteritems is deprecated and will be removed in a future version. Use .items instead.\n",
      "  for col_name, dtype in df.dtypes.iteritems():\n"
     ]
    },
    {
     "data": {
      "text/html": "\n<div id=\"altair-viz-ad31ba5ab36f48e2b017cac2c41ad143\"></div>\n<script type=\"text/javascript\">\n  var VEGA_DEBUG = (typeof VEGA_DEBUG == \"undefined\") ? {} : VEGA_DEBUG;\n  (function(spec, embedOpt){\n    let outputDiv = document.currentScript.previousElementSibling;\n    if (outputDiv.id !== \"altair-viz-ad31ba5ab36f48e2b017cac2c41ad143\") {\n      outputDiv = document.getElementById(\"altair-viz-ad31ba5ab36f48e2b017cac2c41ad143\");\n    }\n    const paths = {\n      \"vega\": \"https://cdn.jsdelivr.net/npm//vega@5?noext\",\n      \"vega-lib\": \"https://cdn.jsdelivr.net/npm//vega-lib?noext\",\n      \"vega-lite\": \"https://cdn.jsdelivr.net/npm//vega-lite@4.17.0?noext\",\n      \"vega-embed\": \"https://cdn.jsdelivr.net/npm//vega-embed@6?noext\",\n    };\n\n    function maybeLoadScript(lib, version) {\n      var key = `${lib.replace(\"-\", \"\")}_version`;\n      return (VEGA_DEBUG[key] == version) ?\n        Promise.resolve(paths[lib]) :\n        new Promise(function(resolve, reject) {\n          var s = document.createElement('script');\n          document.getElementsByTagName(\"head\")[0].appendChild(s);\n          s.async = true;\n          s.onload = () => {\n            VEGA_DEBUG[key] = version;\n            return resolve(paths[lib]);\n          };\n          s.onerror = () => reject(`Error loading script: ${paths[lib]}`);\n          s.src = paths[lib];\n        });\n    }\n\n    function showError(err) {\n      outputDiv.innerHTML = `<div class=\"error\" style=\"color:red;\">${err}</div>`;\n      throw err;\n    }\n\n    function displayChart(vegaEmbed) {\n      vegaEmbed(outputDiv, spec, embedOpt)\n        .catch(err => showError(`Javascript Error: ${err.message}<br>This usually means there's a typo in your chart specification. See the javascript console for the full traceback.`));\n    }\n\n    if(typeof define === \"function\" && define.amd) {\n      requirejs.config({paths});\n      require([\"vega-embed\"], displayChart, err => showError(`Error loading script: ${err.message}`));\n    } else {\n      maybeLoadScript(\"vega\", \"5\")\n        .then(() => maybeLoadScript(\"vega-lite\", \"4.17.0\"))\n        .then(() => maybeLoadScript(\"vega-embed\", \"6\"))\n        .catch(showError)\n        .then(() => displayChart(vegaEmbed));\n    }\n  })({\"config\": {\"view\": {\"continuousWidth\": 400, \"continuousHeight\": 300}}, \"data\": {\"name\": \"data-89aae0ba1479ca0a24b8f13f1e1db499\"}, \"mark\": \"arc\", \"encoding\": {\"color\": {\"field\": \"employment_type\", \"type\": \"nominal\"}, \"theta\": {\"field\": \"counts\", \"type\": \"quantitative\"}}, \"$schema\": \"https://vega.github.io/schema/vega-lite/v4.17.0.json\", \"datasets\": {\"data-89aae0ba1479ca0a24b8f13f1e1db499\": [{\"employment_type\": \"Full time\", \"counts\": 500}, {\"employment_type\": \"Half time\", \"counts\": 333}, {\"employment_type\": \"Part time\", \"counts\": 167}]}}, {\"mode\": \"vega-lite\"});\n</script>",
      "text/plain": "alt.Chart(...)"
     },
     "execution_count": 60,
     "metadata": {},
     "output_type": "execute_result"
    }
   ],
   "source": [
    "# chart3\n",
    "data = pd.DataFrame(workers, columns=['id', 'employment_type'])\n",
    "data = data.groupby(['employment_type']).count()\n",
    "data = data.rename(columns={'id': 'counts'})\n",
    "data[\"counts\"] = data[\"counts\"].astype('int32')\n",
    "data = data.reset_index(level=0)\n",
    "alt.Chart(data).mark_arc().encode(\n",
    "    color='employment_type', theta='counts'\n",
    ")"
   ],
   "metadata": {
    "collapsed": false
   }
  },
  {
   "cell_type": "code",
   "execution_count": 61,
   "outputs": [
    {
     "name": "stderr",
     "output_type": "stream",
     "text": [
      "C:\\Users\\kaczm\\PycharmProjects\\staticticInPython\\venv\\lib\\site-packages\\altair\\utils\\core.py:317: FutureWarning: iteritems is deprecated and will be removed in a future version. Use .items instead.\n",
      "  for col_name, dtype in df.dtypes.iteritems():\n"
     ]
    },
    {
     "data": {
      "text/html": "\n<div id=\"altair-viz-87f8dcb150aa42efb2a6366efebd68c9\"></div>\n<script type=\"text/javascript\">\n  var VEGA_DEBUG = (typeof VEGA_DEBUG == \"undefined\") ? {} : VEGA_DEBUG;\n  (function(spec, embedOpt){\n    let outputDiv = document.currentScript.previousElementSibling;\n    if (outputDiv.id !== \"altair-viz-87f8dcb150aa42efb2a6366efebd68c9\") {\n      outputDiv = document.getElementById(\"altair-viz-87f8dcb150aa42efb2a6366efebd68c9\");\n    }\n    const paths = {\n      \"vega\": \"https://cdn.jsdelivr.net/npm//vega@5?noext\",\n      \"vega-lib\": \"https://cdn.jsdelivr.net/npm//vega-lib?noext\",\n      \"vega-lite\": \"https://cdn.jsdelivr.net/npm//vega-lite@4.17.0?noext\",\n      \"vega-embed\": \"https://cdn.jsdelivr.net/npm//vega-embed@6?noext\",\n    };\n\n    function maybeLoadScript(lib, version) {\n      var key = `${lib.replace(\"-\", \"\")}_version`;\n      return (VEGA_DEBUG[key] == version) ?\n        Promise.resolve(paths[lib]) :\n        new Promise(function(resolve, reject) {\n          var s = document.createElement('script');\n          document.getElementsByTagName(\"head\")[0].appendChild(s);\n          s.async = true;\n          s.onload = () => {\n            VEGA_DEBUG[key] = version;\n            return resolve(paths[lib]);\n          };\n          s.onerror = () => reject(`Error loading script: ${paths[lib]}`);\n          s.src = paths[lib];\n        });\n    }\n\n    function showError(err) {\n      outputDiv.innerHTML = `<div class=\"error\" style=\"color:red;\">${err}</div>`;\n      throw err;\n    }\n\n    function displayChart(vegaEmbed) {\n      vegaEmbed(outputDiv, spec, embedOpt)\n        .catch(err => showError(`Javascript Error: ${err.message}<br>This usually means there's a typo in your chart specification. See the javascript console for the full traceback.`));\n    }\n\n    if(typeof define === \"function\" && define.amd) {\n      requirejs.config({paths});\n      require([\"vega-embed\"], displayChart, err => showError(`Error loading script: ${err.message}`));\n    } else {\n      maybeLoadScript(\"vega\", \"5\")\n        .then(() => maybeLoadScript(\"vega-lite\", \"4.17.0\"))\n        .then(() => maybeLoadScript(\"vega-embed\", \"6\"))\n        .catch(showError)\n        .then(() => displayChart(vegaEmbed));\n    }\n  })({\"config\": {\"view\": {\"continuousWidth\": 400, \"continuousHeight\": 300}}, \"data\": {\"name\": \"data-271c9dc7517ba0db84d92d2f7c40f283\"}, \"mark\": {\"type\": \"bar\", \"orient\": \"horizontal\"}, \"encoding\": {\"color\": {\"field\": \"counts\", \"type\": \"quantitative\"}, \"x\": {\"field\": \"counts\", \"type\": \"quantitative\"}, \"y\": {\"field\": \"team\", \"type\": \"nominal\"}}, \"$schema\": \"https://vega.github.io/schema/vega-lite/v4.17.0.json\", \"datasets\": {\"data-271c9dc7517ba0db84d92d2f7c40f283\": [{\"team\": \"BurlyWood\", \"counts\": 210}, {\"team\": \"Lime\", \"counts\": 398}, {\"team\": \"MediumSeaGreen\", \"counts\": 197}, {\"team\": \"OliveDrab\", \"counts\": 195}]}}, {\"mode\": \"vega-lite\"});\n</script>",
      "text/plain": "alt.Chart(...)"
     },
     "execution_count": 61,
     "metadata": {},
     "output_type": "execute_result"
    }
   ],
   "source": [
    "# chart4\n",
    "data = pd.DataFrame(workers, columns=['id', 'team'])\n",
    "data = data.groupby(['team']).count()\n",
    "data = data.rename(columns={'id': 'counts'})\n",
    "data[\"counts\"] = data[\"counts\"].astype('int32')\n",
    "data = data.reset_index(level=0)\n",
    "alt.Chart(data).mark_bar(orient='horizontal').encode(\n",
    "    x='counts', y='team', color='counts'\n",
    ")"
   ],
   "metadata": {
    "collapsed": false
   }
  },
  {
   "cell_type": "code",
   "execution_count": 68,
   "outputs": [
    {
     "name": "stderr",
     "output_type": "stream",
     "text": [
      "C:\\Users\\kaczm\\PycharmProjects\\staticticInPython\\venv\\lib\\site-packages\\altair\\utils\\core.py:317: FutureWarning: iteritems is deprecated and will be removed in a future version. Use .items instead.\n",
      "  for col_name, dtype in df.dtypes.iteritems():\n"
     ]
    },
    {
     "data": {
      "text/html": "\n<div id=\"altair-viz-350549d09ae442a4906be1dfbf302f59\"></div>\n<script type=\"text/javascript\">\n  var VEGA_DEBUG = (typeof VEGA_DEBUG == \"undefined\") ? {} : VEGA_DEBUG;\n  (function(spec, embedOpt){\n    let outputDiv = document.currentScript.previousElementSibling;\n    if (outputDiv.id !== \"altair-viz-350549d09ae442a4906be1dfbf302f59\") {\n      outputDiv = document.getElementById(\"altair-viz-350549d09ae442a4906be1dfbf302f59\");\n    }\n    const paths = {\n      \"vega\": \"https://cdn.jsdelivr.net/npm//vega@5?noext\",\n      \"vega-lib\": \"https://cdn.jsdelivr.net/npm//vega-lib?noext\",\n      \"vega-lite\": \"https://cdn.jsdelivr.net/npm//vega-lite@4.17.0?noext\",\n      \"vega-embed\": \"https://cdn.jsdelivr.net/npm//vega-embed@6?noext\",\n    };\n\n    function maybeLoadScript(lib, version) {\n      var key = `${lib.replace(\"-\", \"\")}_version`;\n      return (VEGA_DEBUG[key] == version) ?\n        Promise.resolve(paths[lib]) :\n        new Promise(function(resolve, reject) {\n          var s = document.createElement('script');\n          document.getElementsByTagName(\"head\")[0].appendChild(s);\n          s.async = true;\n          s.onload = () => {\n            VEGA_DEBUG[key] = version;\n            return resolve(paths[lib]);\n          };\n          s.onerror = () => reject(`Error loading script: ${paths[lib]}`);\n          s.src = paths[lib];\n        });\n    }\n\n    function showError(err) {\n      outputDiv.innerHTML = `<div class=\"error\" style=\"color:red;\">${err}</div>`;\n      throw err;\n    }\n\n    function displayChart(vegaEmbed) {\n      vegaEmbed(outputDiv, spec, embedOpt)\n        .catch(err => showError(`Javascript Error: ${err.message}<br>This usually means there's a typo in your chart specification. See the javascript console for the full traceback.`));\n    }\n\n    if(typeof define === \"function\" && define.amd) {\n      requirejs.config({paths});\n      require([\"vega-embed\"], displayChart, err => showError(`Error loading script: ${err.message}`));\n    } else {\n      maybeLoadScript(\"vega\", \"5\")\n        .then(() => maybeLoadScript(\"vega-lite\", \"4.17.0\"))\n        .then(() => maybeLoadScript(\"vega-embed\", \"6\"))\n        .catch(showError)\n        .then(() => displayChart(vegaEmbed));\n    }\n  })({\"config\": {\"view\": {\"continuousWidth\": 400, \"continuousHeight\": 300}}, \"data\": {\"name\": \"data-3e74f1715c21c37a5af17dc4406f71d7\"}, \"mark\": {\"type\": \"bar\", \"orient\": \"horizontal\"}, \"encoding\": {\"color\": {\"field\": \"counts\", \"type\": \"quantitative\"}, \"column\": {\"field\": \"team\", \"type\": \"nominal\"}, \"x\": {\"field\": \"employment_type\", \"type\": \"nominal\"}, \"y\": {\"field\": \"counts\", \"type\": \"quantitative\"}}, \"$schema\": \"https://vega.github.io/schema/vega-lite/v4.17.0.json\", \"datasets\": {\"data-3e74f1715c21c37a5af17dc4406f71d7\": [{\"employment_type\": \"Full time\", \"team\": \"BurlyWood\", \"counts\": 104}, {\"employment_type\": \"Half time\", \"team\": \"BurlyWood\", \"counts\": 73}, {\"employment_type\": \"Part time\", \"team\": \"BurlyWood\", \"counts\": 33}, {\"employment_type\": \"Full time\", \"team\": \"Lime\", \"counts\": 204}, {\"employment_type\": \"Half time\", \"team\": \"Lime\", \"counts\": 131}, {\"employment_type\": \"Part time\", \"team\": \"Lime\", \"counts\": 63}, {\"employment_type\": \"Full time\", \"team\": \"MediumSeaGreen\", \"counts\": 87}, {\"employment_type\": \"Half time\", \"team\": \"MediumSeaGreen\", \"counts\": 71}, {\"employment_type\": \"Part time\", \"team\": \"MediumSeaGreen\", \"counts\": 39}, {\"employment_type\": \"Full time\", \"team\": \"OliveDrab\", \"counts\": 105}, {\"employment_type\": \"Half time\", \"team\": \"OliveDrab\", \"counts\": 58}, {\"employment_type\": \"Part time\", \"team\": \"OliveDrab\", \"counts\": 32}]}}, {\"mode\": \"vega-lite\"});\n</script>",
      "text/plain": "alt.Chart(...)"
     },
     "execution_count": 68,
     "metadata": {},
     "output_type": "execute_result"
    }
   ],
   "source": [
    "# chart5\n",
    "data = pd.DataFrame(workers, columns=['id', 'team', 'employment_type'])\n",
    "data = data.groupby(['team', 'employment_type']).count()\n",
    "data = data.rename(columns={'id': 'counts'})\n",
    "data[\"counts\"] = data[\"counts\"].astype('int32')\n",
    "data = data.reset_index(level=0)\n",
    "data = data.reset_index(level=0)\n",
    "alt.Chart(data).mark_bar(orient='horizontal').encode(\n",
    "    column=\"team\",\n",
    "    x='employment_type', y='counts', color='counts'\n",
    ")"
   ],
   "metadata": {
    "collapsed": false
   }
  },
  {
   "cell_type": "code",
   "execution_count": 63,
   "outputs": [],
   "source": [
    "widgets = pd.DataFrame(pd.read_csv('widgets.csv'))\n",
    "# print(widgets)"
   ],
   "metadata": {
    "collapsed": false
   }
  },
  {
   "cell_type": "code",
   "execution_count": 64,
   "outputs": [
    {
     "name": "stderr",
     "output_type": "stream",
     "text": [
      "C:\\Users\\kaczm\\PycharmProjects\\staticticInPython\\venv\\lib\\site-packages\\altair\\utils\\core.py:317: FutureWarning: iteritems is deprecated and will be removed in a future version. Use .items instead.\n",
      "  for col_name, dtype in df.dtypes.iteritems():\n"
     ]
    },
    {
     "data": {
      "text/html": "\n<div id=\"altair-viz-b6244e9fd96849c6b025bef40835d60e\"></div>\n<script type=\"text/javascript\">\n  var VEGA_DEBUG = (typeof VEGA_DEBUG == \"undefined\") ? {} : VEGA_DEBUG;\n  (function(spec, embedOpt){\n    let outputDiv = document.currentScript.previousElementSibling;\n    if (outputDiv.id !== \"altair-viz-b6244e9fd96849c6b025bef40835d60e\") {\n      outputDiv = document.getElementById(\"altair-viz-b6244e9fd96849c6b025bef40835d60e\");\n    }\n    const paths = {\n      \"vega\": \"https://cdn.jsdelivr.net/npm//vega@5?noext\",\n      \"vega-lib\": \"https://cdn.jsdelivr.net/npm//vega-lib?noext\",\n      \"vega-lite\": \"https://cdn.jsdelivr.net/npm//vega-lite@4.17.0?noext\",\n      \"vega-embed\": \"https://cdn.jsdelivr.net/npm//vega-embed@6?noext\",\n    };\n\n    function maybeLoadScript(lib, version) {\n      var key = `${lib.replace(\"-\", \"\")}_version`;\n      return (VEGA_DEBUG[key] == version) ?\n        Promise.resolve(paths[lib]) :\n        new Promise(function(resolve, reject) {\n          var s = document.createElement('script');\n          document.getElementsByTagName(\"head\")[0].appendChild(s);\n          s.async = true;\n          s.onload = () => {\n            VEGA_DEBUG[key] = version;\n            return resolve(paths[lib]);\n          };\n          s.onerror = () => reject(`Error loading script: ${paths[lib]}`);\n          s.src = paths[lib];\n        });\n    }\n\n    function showError(err) {\n      outputDiv.innerHTML = `<div class=\"error\" style=\"color:red;\">${err}</div>`;\n      throw err;\n    }\n\n    function displayChart(vegaEmbed) {\n      vegaEmbed(outputDiv, spec, embedOpt)\n        .catch(err => showError(`Javascript Error: ${err.message}<br>This usually means there's a typo in your chart specification. See the javascript console for the full traceback.`));\n    }\n\n    if(typeof define === \"function\" && define.amd) {\n      requirejs.config({paths});\n      require([\"vega-embed\"], displayChart, err => showError(`Error loading script: ${err.message}`));\n    } else {\n      maybeLoadScript(\"vega\", \"5\")\n        .then(() => maybeLoadScript(\"vega-lite\", \"4.17.0\"))\n        .then(() => maybeLoadScript(\"vega-embed\", \"6\"))\n        .catch(showError)\n        .then(() => displayChart(vegaEmbed));\n    }\n  })({\"config\": {\"view\": {\"continuousWidth\": 400, \"continuousHeight\": 300}}, \"data\": {\"name\": \"data-cf84e938c9ae313a444b52a5fa9f791f\"}, \"mark\": {\"type\": \"bar\", \"orient\": \"horizontal\"}, \"encoding\": {\"color\": {\"field\": \"counts\", \"type\": \"quantitative\"}, \"x\": {\"field\": \"team\", \"type\": \"nominal\"}, \"y\": {\"field\": \"counts\", \"type\": \"quantitative\"}}, \"$schema\": \"https://vega.github.io/schema/vega-lite/v4.17.0.json\", \"datasets\": {\"data-cf84e938c9ae313a444b52a5fa9f791f\": [{\"team\": \"BurlyWood\", \"Unnamed: 0_x\": 4533, \"counts\": 4533, \"name\": 4533, \"date_of_employment\": 4533, \"employment_type\": 4533, \"Unnamed: 0_y\": 4533, \"item_number\": 4533, \"step_1\": 4533, \"step_2\": 4533, \"step_3\": 4533, \"employee_id\": 4533}, {\"team\": \"Lime\", \"Unnamed: 0_x\": 8281, \"counts\": 8281, \"name\": 8281, \"date_of_employment\": 8281, \"employment_type\": 8281, \"Unnamed: 0_y\": 8281, \"item_number\": 8281, \"step_1\": 8281, \"step_2\": 8281, \"step_3\": 8281, \"employee_id\": 8281}, {\"team\": \"MediumSeaGreen\", \"Unnamed: 0_x\": 4599, \"counts\": 4599, \"name\": 4599, \"date_of_employment\": 4599, \"employment_type\": 4599, \"Unnamed: 0_y\": 4599, \"item_number\": 4599, \"step_1\": 4599, \"step_2\": 4599, \"step_3\": 4599, \"employee_id\": 4599}, {\"team\": \"OliveDrab\", \"Unnamed: 0_x\": 1860, \"counts\": 1860, \"name\": 1860, \"date_of_employment\": 1860, \"employment_type\": 1860, \"Unnamed: 0_y\": 1860, \"item_number\": 1860, \"step_1\": 1860, \"step_2\": 1860, \"step_3\": 1860, \"employee_id\": 1860}]}}, {\"mode\": \"vega-lite\"});\n</script>",
      "text/plain": "alt.Chart(...)"
     },
     "execution_count": 64,
     "metadata": {},
     "output_type": "execute_result"
    }
   ],
   "source": [
    "# chart7\n",
    "data = pd.DataFrame(pd.read_csv('workers.csv'))\n",
    "widgets = pd.DataFrame(pd.read_csv('widgets.csv'))\n",
    "data_merged = data.merge(widgets, left_on='id', right_on='employee_id')\n",
    "data_merged = data_merged.groupby(['team']).count()\n",
    "data_merged = data_merged.rename(columns={'id': 'counts'})\n",
    "data_merged[\"counts\"] = data_merged[\"counts\"].astype('int32')\n",
    "data_merged = data_merged.reset_index(level=0)\n",
    "alt.Chart(data_merged).mark_bar(orient='horizontal').encode(\n",
    "    x='team', y='counts', color='counts'\n",
    ")"
   ],
   "metadata": {
    "collapsed": false
   }
  },
  {
   "cell_type": "code",
   "execution_count": 65,
   "outputs": [
    {
     "name": "stderr",
     "output_type": "stream",
     "text": [
      "C:\\Users\\kaczm\\PycharmProjects\\staticticInPython\\venv\\lib\\site-packages\\altair\\utils\\core.py:317: FutureWarning: iteritems is deprecated and will be removed in a future version. Use .items instead.\n",
      "  for col_name, dtype in df.dtypes.iteritems():\n"
     ]
    },
    {
     "data": {
      "text/html": "\n<div id=\"altair-viz-b0af690d5f5240909b738f204fe034ee\"></div>\n<script type=\"text/javascript\">\n  var VEGA_DEBUG = (typeof VEGA_DEBUG == \"undefined\") ? {} : VEGA_DEBUG;\n  (function(spec, embedOpt){\n    let outputDiv = document.currentScript.previousElementSibling;\n    if (outputDiv.id !== \"altair-viz-b0af690d5f5240909b738f204fe034ee\") {\n      outputDiv = document.getElementById(\"altair-viz-b0af690d5f5240909b738f204fe034ee\");\n    }\n    const paths = {\n      \"vega\": \"https://cdn.jsdelivr.net/npm//vega@5?noext\",\n      \"vega-lib\": \"https://cdn.jsdelivr.net/npm//vega-lib?noext\",\n      \"vega-lite\": \"https://cdn.jsdelivr.net/npm//vega-lite@4.17.0?noext\",\n      \"vega-embed\": \"https://cdn.jsdelivr.net/npm//vega-embed@6?noext\",\n    };\n\n    function maybeLoadScript(lib, version) {\n      var key = `${lib.replace(\"-\", \"\")}_version`;\n      return (VEGA_DEBUG[key] == version) ?\n        Promise.resolve(paths[lib]) :\n        new Promise(function(resolve, reject) {\n          var s = document.createElement('script');\n          document.getElementsByTagName(\"head\")[0].appendChild(s);\n          s.async = true;\n          s.onload = () => {\n            VEGA_DEBUG[key] = version;\n            return resolve(paths[lib]);\n          };\n          s.onerror = () => reject(`Error loading script: ${paths[lib]}`);\n          s.src = paths[lib];\n        });\n    }\n\n    function showError(err) {\n      outputDiv.innerHTML = `<div class=\"error\" style=\"color:red;\">${err}</div>`;\n      throw err;\n    }\n\n    function displayChart(vegaEmbed) {\n      vegaEmbed(outputDiv, spec, embedOpt)\n        .catch(err => showError(`Javascript Error: ${err.message}<br>This usually means there's a typo in your chart specification. See the javascript console for the full traceback.`));\n    }\n\n    if(typeof define === \"function\" && define.amd) {\n      requirejs.config({paths});\n      require([\"vega-embed\"], displayChart, err => showError(`Error loading script: ${err.message}`));\n    } else {\n      maybeLoadScript(\"vega\", \"5\")\n        .then(() => maybeLoadScript(\"vega-lite\", \"4.17.0\"))\n        .then(() => maybeLoadScript(\"vega-embed\", \"6\"))\n        .catch(showError)\n        .then(() => displayChart(vegaEmbed));\n    }\n  })({\"config\": {\"view\": {\"continuousWidth\": 400, \"continuousHeight\": 300}}, \"data\": {\"name\": \"data-4a5b0da168d8432cc4a1976057697489\"}, \"mark\": {\"type\": \"bar\", \"orient\": \"horizontal\"}, \"encoding\": {\"color\": {\"field\": \"counts\", \"type\": \"quantitative\"}, \"x\": {\"field\": \"employment_type\", \"type\": \"nominal\"}, \"y\": {\"field\": \"counts\", \"type\": \"quantitative\"}}, \"$schema\": \"https://vega.github.io/schema/vega-lite/v4.17.0.json\", \"datasets\": {\"data-4a5b0da168d8432cc4a1976057697489\": [{\"employment_type\": \"Full time\", \"Unnamed: 0_x\": 9849, \"counts\": 9849, \"name\": 9849, \"team\": 9849, \"date_of_employment\": 9849, \"Unnamed: 0_y\": 9849, \"item_number\": 9849, \"step_1\": 9849, \"step_2\": 9849, \"step_3\": 9849, \"employee_id\": 9849}, {\"employment_type\": \"Half time\", \"Unnamed: 0_x\": 8119, \"counts\": 8119, \"name\": 8119, \"team\": 8119, \"date_of_employment\": 8119, \"Unnamed: 0_y\": 8119, \"item_number\": 8119, \"step_1\": 8119, \"step_2\": 8119, \"step_3\": 8119, \"employee_id\": 8119}, {\"employment_type\": \"Part time\", \"Unnamed: 0_x\": 1305, \"counts\": 1305, \"name\": 1305, \"team\": 1305, \"date_of_employment\": 1305, \"Unnamed: 0_y\": 1305, \"item_number\": 1305, \"step_1\": 1305, \"step_2\": 1305, \"step_3\": 1305, \"employee_id\": 1305}]}}, {\"mode\": \"vega-lite\"});\n</script>",
      "text/plain": "alt.Chart(...)"
     },
     "execution_count": 65,
     "metadata": {},
     "output_type": "execute_result"
    }
   ],
   "source": [
    "# chart8\n",
    "data = pd.DataFrame(pd.read_csv('workers.csv'))\n",
    "widgets = pd.DataFrame(pd.read_csv('widgets.csv'))\n",
    "data_merged = data.merge(widgets, left_on='id', right_on='employee_id')\n",
    "data_merged = data_merged.groupby(['employment_type']).count()\n",
    "data_merged = data_merged.rename(columns={'id': 'counts'})\n",
    "data_merged[\"counts\"] = data_merged[\"counts\"].astype('int32')\n",
    "data_merged = data_merged.reset_index(level=0)\n",
    "alt.Chart(data_merged).mark_bar(orient='horizontal').encode(\n",
    "    x='employment_type', y='counts', color='counts'\n",
    ")"
   ],
   "metadata": {
    "collapsed": false
   }
  },
  {
   "cell_type": "code",
   "execution_count": 72,
   "outputs": [
    {
     "name": "stderr",
     "output_type": "stream",
     "text": [
      "C:\\Users\\kaczm\\PycharmProjects\\staticticInPython\\venv\\lib\\site-packages\\altair\\utils\\core.py:317: FutureWarning: iteritems is deprecated and will be removed in a future version. Use .items instead.\n",
      "  for col_name, dtype in df.dtypes.iteritems():\n"
     ]
    },
    {
     "data": {
      "text/html": "\n<div id=\"altair-viz-2865b0dfa8444eef9ac3fd55d579fee9\"></div>\n<script type=\"text/javascript\">\n  var VEGA_DEBUG = (typeof VEGA_DEBUG == \"undefined\") ? {} : VEGA_DEBUG;\n  (function(spec, embedOpt){\n    let outputDiv = document.currentScript.previousElementSibling;\n    if (outputDiv.id !== \"altair-viz-2865b0dfa8444eef9ac3fd55d579fee9\") {\n      outputDiv = document.getElementById(\"altair-viz-2865b0dfa8444eef9ac3fd55d579fee9\");\n    }\n    const paths = {\n      \"vega\": \"https://cdn.jsdelivr.net/npm//vega@5?noext\",\n      \"vega-lib\": \"https://cdn.jsdelivr.net/npm//vega-lib?noext\",\n      \"vega-lite\": \"https://cdn.jsdelivr.net/npm//vega-lite@4.17.0?noext\",\n      \"vega-embed\": \"https://cdn.jsdelivr.net/npm//vega-embed@6?noext\",\n    };\n\n    function maybeLoadScript(lib, version) {\n      var key = `${lib.replace(\"-\", \"\")}_version`;\n      return (VEGA_DEBUG[key] == version) ?\n        Promise.resolve(paths[lib]) :\n        new Promise(function(resolve, reject) {\n          var s = document.createElement('script');\n          document.getElementsByTagName(\"head\")[0].appendChild(s);\n          s.async = true;\n          s.onload = () => {\n            VEGA_DEBUG[key] = version;\n            return resolve(paths[lib]);\n          };\n          s.onerror = () => reject(`Error loading script: ${paths[lib]}`);\n          s.src = paths[lib];\n        });\n    }\n\n    function showError(err) {\n      outputDiv.innerHTML = `<div class=\"error\" style=\"color:red;\">${err}</div>`;\n      throw err;\n    }\n\n    function displayChart(vegaEmbed) {\n      vegaEmbed(outputDiv, spec, embedOpt)\n        .catch(err => showError(`Javascript Error: ${err.message}<br>This usually means there's a typo in your chart specification. See the javascript console for the full traceback.`));\n    }\n\n    if(typeof define === \"function\" && define.amd) {\n      requirejs.config({paths});\n      require([\"vega-embed\"], displayChart, err => showError(`Error loading script: ${err.message}`));\n    } else {\n      maybeLoadScript(\"vega\", \"5\")\n        .then(() => maybeLoadScript(\"vega-lite\", \"4.17.0\"))\n        .then(() => maybeLoadScript(\"vega-embed\", \"6\"))\n        .catch(showError)\n        .then(() => displayChart(vegaEmbed));\n    }\n  })({\"config\": {\"view\": {\"continuousWidth\": 400, \"continuousHeight\": 300}}, \"data\": {\"name\": \"data-8922da8ab128ef6a52c10c7250857d2e\"}, \"mark\": {\"type\": \"bar\", \"orient\": \"horizontal\"}, \"encoding\": {\"color\": {\"field\": \"counts\", \"type\": \"quantitative\"}, \"x\": {\"field\": \"counts\", \"type\": \"quantitative\"}, \"y\": {\"field\": \"name\", \"type\": \"nominal\"}}, \"$schema\": \"https://vega.github.io/schema/vega-lite/v4.17.0.json\", \"datasets\": {\"data-8922da8ab128ef6a52c10c7250857d2e\": [{\"name\": \"Luchino Schiaparelli\", \"counts\": 126}, {\"name\": \"Viridiana Vismara\", \"counts\": 145}, {\"name\": \"Dott. Marco Cattaneo\", \"counts\": 183}, {\"name\": \"Marco Tamburini\", \"counts\": 185}, {\"name\": \"Tatiana Dallara-Crispi\", \"counts\": 185}, {\"name\": \"Sig. Giacobbe Villarosa\", \"counts\": 191}, {\"name\": \"Dott. Giampiero Foletti\", \"counts\": 207}, {\"name\": \"Greca Don\\u00e0\", \"counts\": 219}, {\"name\": \"Edoardo Ariosto\", \"counts\": 221}, {\"name\": \"Paolo Sauro\", \"counts\": 227}, {\"name\": \"Pierangelo Boezio\", \"counts\": 231}, {\"name\": \"Maria Comeriato-Lovato\", \"counts\": 261}, {\"name\": \"Dott. Barbara Angiolello\", \"counts\": 266}, {\"name\": \"Martina Perini\", \"counts\": 290}, {\"name\": \"Susanna Toldo\", \"counts\": 342}, {\"name\": \"Susanna Tasca\", \"counts\": 345}, {\"name\": \"Claudia Eco\", \"counts\": 359}, {\"name\": \"Chiara Gianetti-Govoni\", \"counts\": 360}, {\"name\": \"Maria Grifeo\", \"counts\": 379}, {\"name\": \"Lodovico Gozzi\", \"counts\": 468}]}}, {\"mode\": \"vega-lite\"});\n</script>",
      "text/plain": "alt.Chart(...)"
     },
     "execution_count": 72,
     "metadata": {},
     "output_type": "execute_result"
    }
   ],
   "source": [
    "# chart9\n",
    "data = pd.DataFrame(pd.read_csv('workers.csv'))\n",
    "widgets = pd.DataFrame(pd.read_csv('widgets.csv'))\n",
    "data_merged = data.merge(widgets, left_on='id', right_on='employee_id')\n",
    "data_merged = data_merged.groupby(['name']).count()\n",
    "data_merged = data_merged.reset_index(level=0)\n",
    "data_merged = pd.DataFrame(data_merged, columns=['name', 'id'])\n",
    "data_merged = data_merged.rename(columns={'id': 'counts'})\n",
    "data_merged[\"counts\"] = data_merged[\"counts\"].astype('int32')\n",
    "alt.Chart(data_merged.nsmallest(20, columns=['counts'])).mark_bar(orient='horizontal').encode(\n",
    "    x='counts', y='name', color='counts'\n",
    ")"
   ],
   "metadata": {
    "collapsed": false
   }
  },
  {
   "cell_type": "code",
   "execution_count": null,
   "outputs": [],
   "source": [],
   "metadata": {
    "collapsed": false
   }
  }
 ],
 "metadata": {
  "kernelspec": {
   "display_name": "Python 3",
   "language": "python",
   "name": "python3"
  },
  "language_info": {
   "codemirror_mode": {
    "name": "ipython",
    "version": 2
   },
   "file_extension": ".py",
   "mimetype": "text/x-python",
   "name": "python",
   "nbconvert_exporter": "python",
   "pygments_lexer": "ipython2",
   "version": "2.7.6"
  }
 },
 "nbformat": 4,
 "nbformat_minor": 0
}
