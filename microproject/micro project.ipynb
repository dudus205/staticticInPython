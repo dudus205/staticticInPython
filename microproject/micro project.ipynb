{
 "cells": [
  {
   "cell_type": "markdown",
   "source": [
    "# Micro project - Piotr Kaczmarczyk\n"
   ],
   "metadata": {
    "collapsed": false
   }
  },
  {
   "cell_type": "markdown",
   "source": [
    "# Clean up function and NIP validation"
   ],
   "metadata": {
    "collapsed": false
   }
  },
  {
   "cell_type": "code",
   "execution_count": 2,
   "outputs": [],
   "source": [
    "def clean_up_data(data):\n",
    "    for item in range(len(data)):\n",
    "        data[item] = data[item].replace(\"-\", \"\").replace(\"PL\", \"\").replace(\" \", \"\")\n",
    "\n",
    "    return list(dict.fromkeys(data))\n",
    "\n",
    "\n",
    "def validate_nip(data):\n",
    "    output = []\n",
    "    for item in range(len(data)):\n",
    "        control = int(data[item][0]) * 6\n",
    "        control = control + int(data[item][1]) * 5\n",
    "        control = control + int(data[item][2]) * 7\n",
    "        control = control + int(data[item][3]) * 2\n",
    "        control = control + int(data[item][4]) * 3\n",
    "        control = control + int(data[item][5]) * 4\n",
    "        control = control + int(data[item][6]) * 5\n",
    "        control = control + int(data[item][7]) * 6\n",
    "        control = control + int(data[item][8]) * 7\n",
    "        control = control % 11\n",
    "        if control == int(data[item][9]):\n",
    "            output.append(data[item])\n",
    "\n",
    "    return output"
   ],
   "metadata": {
    "collapsed": false
   }
  },
  {
   "cell_type": "markdown",
   "source": [
    "# Main function"
   ],
   "metadata": {
    "collapsed": false
   }
  },
  {
   "cell_type": "code",
   "execution_count": 8,
   "outputs": [
    {
     "name": "stdout",
     "output_type": "stream",
     "text": [
      "['6312609607', '8281316212', '7392954381', '7431641598', '7393029517', '7441516966', '5711503502', '7540335340', '5422698451', '5541007223', '9840078782', '7393208668', '6422105641', '6331813071', '5422449707', '5831014898', '7792081703', '6391747857', '9691227069', '7491899923', '0000000000']\n"
     ]
    }
   ],
   "source": [
    "if __name__ == '__main__':\n",
    "    data = [\n",
    "        '6312609607',\n",
    "        '828 131 62 12',\n",
    "        '7392954381',\n",
    "        '4980117337',\n",
    "        '7431641598',\n",
    "        '7393029517',\n",
    "        '744-15-16-966',\n",
    "        '5711503502',\n",
    "        '7540335340',\n",
    "        '5422698451',\n",
    "        '5541007223',\n",
    "        '984-00-78-782',\n",
    "        '7393208668',\n",
    "        '6422105641',\n",
    "        'PL6331813071',\n",
    "        '5422449707',\n",
    "        '5260300292',\n",
    "        '583-101-48-98',\n",
    "        '7792081703',\n",
    "        'PL 6391747857',\n",
    "        '9691227069',\n",
    "        '7491899923',\n",
    "        '0000000000',\n",
    "        '754 033 53 40'\n",
    "    ]\n",
    "\n",
    "    data = clean_up_data(data)\n",
    "    data = validate_nip(data)\n",
    "\n",
    "    print(data)"
   ],
   "metadata": {
    "collapsed": false
   }
  }
 ],
 "metadata": {
  "kernelspec": {
   "display_name": "Python 3",
   "language": "python",
   "name": "python3"
  },
  "language_info": {
   "codemirror_mode": {
    "name": "ipython",
    "version": 2
   },
   "file_extension": ".py",
   "mimetype": "text/x-python",
   "name": "python",
   "nbconvert_exporter": "python",
   "pygments_lexer": "ipython2",
   "version": "2.7.6"
  }
 },
 "nbformat": 4,
 "nbformat_minor": 0
}
