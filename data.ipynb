{
 "cells": [
  {
   "cell_type": "markdown",
   "source": [
    "Piotr Kaczmarczyk - factory generator project"
   ],
   "metadata": {
    "collapsed": false
   }
  },
  {
   "cell_type": "markdown",
   "source": [
    "Imports and global."
   ],
   "metadata": {
    "collapsed": false
   }
  },
  {
   "cell_type": "code",
   "execution_count": 9,
   "outputs": [],
   "source": [
    "from faker import Faker\n",
    "import pandas as pd\n",
    "import numpy as np\n",
    "\n",
    "fake = Faker(['it_IT'])"
   ],
   "metadata": {
    "collapsed": false
   }
  },
  {
   "cell_type": "markdown",
   "source": [
    "Data generators."
   ],
   "metadata": {
    "collapsed": false
   }
  },
  {
   "cell_type": "code",
   "execution_count": 22,
   "outputs": [],
   "source": [
    "def workers(iterations):\n",
    "    groups = [fake.color_name(), fake.color_name(), fake.color_name(), fake.color_name(), fake.color_name()]\n",
    "    full_time = round(iterations / 2)\n",
    "    half_time = round(iterations / 3)\n",
    "    part_time = round(iterations - full_time - half_time)\n",
    "    workers_dictionary = []\n",
    "\n",
    "    for i in range(iterations):\n",
    "        if full_time > 0:\n",
    "            work_type = \"Full time\"\n",
    "            full_time = full_time - 1\n",
    "        elif half_time > 0:\n",
    "            work_type = \"Half time\"\n",
    "            half_time = half_time - 1\n",
    "        elif part_time > 0:\n",
    "            work_type = \"Part time\"\n",
    "            part_time = part_time - 1\n",
    "\n",
    "        workers_dictionary.append([fake.random_int() * fake.random_int(1, 5),\n",
    "                                   fake.name(),\n",
    "                                   groups[fake.random_int(0, 4)],\n",
    "                                   fake.date(),  # date default is -30 years\n",
    "                                   work_type\n",
    "                                   ])\n",
    "\n",
    "    workers_df = pd.DataFrame(workers_dictionary,\n",
    "                              columns=['id', 'name', 'team', 'date_of_employment', 'employment_type'])\n",
    "    return workers_df\n",
    "\n",
    "\n",
    "def parts(iterations):\n",
    "    steps = {}\n",
    "    for i in range(iterations):\n",
    "        steps[i] = {id(fake.random_int()): [np.random.gamma(2, 2, 1)[0],\n",
    "                                            np.random.normal(2, 2, 1)[0],\n",
    "                                            np.random.exponential(2, 1)[0]\n",
    "                                            ]}\n",
    "    return steps\n",
    "\n",
    "\n",
    "def item_list(worker, part):\n",
    "    items = []\n",
    "\n",
    "    for index_worker in range(len(worker)):\n",
    "        index_item = 1\n",
    "        if worker['employment_type'][index_worker] == \"Full time\":\n",
    "            amount = fake.random_int(500, 1000)\n",
    "        elif worker['employment_type'][index_worker] == \"Half time\":\n",
    "            amount = fake.random_int(100, 500)\n",
    "        else:\n",
    "            amount = fake.random_int(1, 1000)\n",
    "        # index_item = 1\n",
    "        for index_item in range(amount):\n",
    "            items.append([\n",
    "                str(part[index_item].keys())[11:24] + \" - \" + str(index_worker),\n",
    "                part[index_item][int(str(part[index_item].keys())[11:24])][0],\n",
    "                part[index_item][int(str(part[index_item].keys())[11:24])][1],\n",
    "                part[index_item][int(str(part[index_item].keys())[11:24])][2],\n",
    "                index_worker\n",
    "            ])\n",
    "            if index_item >= len(part) - 1:\n",
    "                break\n",
    "\n",
    "    amount_df = pd.DataFrame(items, columns=['item_number', 'step_1', 'step_2', 'step_3', 'employee_id'])\n",
    "    return amount_df\n",
    "\n",
    "\n",
    "def parameters_of_data(data_set):\n",
    "    print(\"\\nHead function \")\n",
    "    print(data_set.head())\n",
    "    print(\"\\nNunique function\")\n",
    "    print(data_set.nunique())\n",
    "    print(\"\\nIsnull function\")\n",
    "    print(data_set.isnull())\n",
    "    print(\"\\nDescribe function\")\n",
    "    print(data_set.describe())\n",
    "    print(\"\\nInfo function\")\n",
    "    print(data_set.info())"
   ],
   "metadata": {
    "collapsed": false
   }
  },
  {
   "cell_type": "markdown",
   "source": [
    "Main function, execution of data creators"
   ],
   "metadata": {
    "collapsed": false
   }
  },
  {
   "cell_type": "code",
   "execution_count": 23,
   "outputs": [
    {
     "name": "stdout",
     "output_type": "stream",
     "text": [
      "\n",
      "Head function \n",
      "   Unnamed: 0     id                      name             team  \\\n",
      "0           0  15404          Gilberto Riccati  MediumSlateBlue   \n",
      "1           1  39372       Telemaco Bellocchio            Linen   \n",
      "2           2   4060  Ansaldo Magrassi-Baracca          DarkRed   \n",
      "3           3   1440   Dott. Federica Murialdo            Linen   \n",
      "4           4   2908          Valentina Romano           Orange   \n",
      "\n",
      "  date_of_employment employment_type  \n",
      "0         1998-02-11       Full time  \n",
      "1         1980-02-26       Full time  \n",
      "2         1975-11-17       Full time  \n",
      "3         2009-10-13       Full time  \n",
      "4         2008-09-10       Full time  \n",
      "\n",
      "Nunique function\n",
      "Unnamed: 0            1000\n",
      "id                     977\n",
      "name                  1000\n",
      "team                     5\n",
      "date_of_employment     974\n",
      "employment_type          3\n",
      "dtype: int64\n",
      "\n",
      "Isnull function\n",
      "     Unnamed: 0     id   name   team  date_of_employment  employment_type\n",
      "0         False  False  False  False               False            False\n",
      "1         False  False  False  False               False            False\n",
      "2         False  False  False  False               False            False\n",
      "3         False  False  False  False               False            False\n",
      "4         False  False  False  False               False            False\n",
      "..          ...    ...    ...    ...                 ...              ...\n",
      "995       False  False  False  False               False            False\n",
      "996       False  False  False  False               False            False\n",
      "997       False  False  False  False               False            False\n",
      "998       False  False  False  False               False            False\n",
      "999       False  False  False  False               False            False\n",
      "\n",
      "[1000 rows x 6 columns]\n",
      "\n",
      "Describe function\n",
      "        Unnamed: 0            id\n",
      "count  1000.000000   1000.000000\n",
      "mean    499.500000  14459.712000\n",
      "std     288.819436  12057.200994\n",
      "min       0.000000      0.000000\n",
      "25%     249.750000   5113.500000\n",
      "50%     499.500000  10245.500000\n",
      "75%     749.250000  21146.000000\n",
      "max     999.000000  49860.000000\n",
      "\n",
      "Info function\n",
      "<class 'pandas.core.frame.DataFrame'>\n",
      "RangeIndex: 1000 entries, 0 to 999\n",
      "Data columns (total 6 columns):\n",
      " #   Column              Non-Null Count  Dtype \n",
      "---  ------              --------------  ----- \n",
      " 0   Unnamed: 0          1000 non-null   int64 \n",
      " 1   id                  1000 non-null   int64 \n",
      " 2   name                1000 non-null   object\n",
      " 3   team                1000 non-null   object\n",
      " 4   date_of_employment  1000 non-null   object\n",
      " 5   employment_type     1000 non-null   object\n",
      "dtypes: int64(2), object(4)\n",
      "memory usage: 47.0+ KB\n",
      "None\n"
     ]
    }
   ],
   "source": [
    "if __name__ == '__main__':\n",
    "    company = workers(1000)\n",
    "    parts = parts(1000)\n",
    "    itemProduction = item_list(company, parts)\n",
    "\n",
    "    company.to_csv(\"workers.csv\")\n",
    "    itemProduction.to_csv(\"widgets.csv\")\n",
    "\n",
    "    workers = pd.read_csv(\"workers.csv\")\n",
    "    widgets = pd.read_csv(\"widgets.csv\")\n",
    "\n",
    "    parameters_of_data(workers)"
   ],
   "metadata": {
    "collapsed": false
   }
  },
  {
   "cell_type": "code",
   "execution_count": null,
   "outputs": [],
   "source": [],
   "metadata": {
    "collapsed": false
   }
  }
 ],
 "metadata": {
  "kernelspec": {
   "display_name": "Python 3",
   "language": "python",
   "name": "python3"
  },
  "language_info": {
   "codemirror_mode": {
    "name": "ipython",
    "version": 2
   },
   "file_extension": ".py",
   "mimetype": "text/x-python",
   "name": "python",
   "nbconvert_exporter": "python",
   "pygments_lexer": "ipython2",
   "version": "2.7.6"
  }
 },
 "nbformat": 4,
 "nbformat_minor": 0
}
