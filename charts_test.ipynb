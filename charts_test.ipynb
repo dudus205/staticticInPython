{
 "cells": [
  {
   "cell_type": "code",
   "execution_count": 8,
   "metadata": {
    "collapsed": true
   },
   "outputs": [
    {
     "name": "stderr",
     "output_type": "stream",
     "text": [
      "C:\\Users\\kaczm\\PycharmProjects\\staticticInPython\\venv\\lib\\site-packages\\altair\\utils\\core.py:317: FutureWarning: iteritems is deprecated and will be removed in a future version. Use .items instead.\n",
      "  for col_name, dtype in df.dtypes.iteritems():\n"
     ]
    },
    {
     "data": {
      "text/html": "\n<div id=\"altair-viz-563d4419b82d42c5ba5ce08d5c0165f7\"></div>\n<script type=\"text/javascript\">\n  var VEGA_DEBUG = (typeof VEGA_DEBUG == \"undefined\") ? {} : VEGA_DEBUG;\n  (function(spec, embedOpt){\n    let outputDiv = document.currentScript.previousElementSibling;\n    if (outputDiv.id !== \"altair-viz-563d4419b82d42c5ba5ce08d5c0165f7\") {\n      outputDiv = document.getElementById(\"altair-viz-563d4419b82d42c5ba5ce08d5c0165f7\");\n    }\n    const paths = {\n      \"vega\": \"https://cdn.jsdelivr.net/npm//vega@5?noext\",\n      \"vega-lib\": \"https://cdn.jsdelivr.net/npm//vega-lib?noext\",\n      \"vega-lite\": \"https://cdn.jsdelivr.net/npm//vega-lite@4.17.0?noext\",\n      \"vega-embed\": \"https://cdn.jsdelivr.net/npm//vega-embed@6?noext\",\n    };\n\n    function maybeLoadScript(lib, version) {\n      var key = `${lib.replace(\"-\", \"\")}_version`;\n      return (VEGA_DEBUG[key] == version) ?\n        Promise.resolve(paths[lib]) :\n        new Promise(function(resolve, reject) {\n          var s = document.createElement('script');\n          document.getElementsByTagName(\"head\")[0].appendChild(s);\n          s.async = true;\n          s.onload = () => {\n            VEGA_DEBUG[key] = version;\n            return resolve(paths[lib]);\n          };\n          s.onerror = () => reject(`Error loading script: ${paths[lib]}`);\n          s.src = paths[lib];\n        });\n    }\n\n    function showError(err) {\n      outputDiv.innerHTML = `<div class=\"error\" style=\"color:red;\">${err}</div>`;\n      throw err;\n    }\n\n    function displayChart(vegaEmbed) {\n      vegaEmbed(outputDiv, spec, embedOpt)\n        .catch(err => showError(`Javascript Error: ${err.message}<br>This usually means there's a typo in your chart specification. See the javascript console for the full traceback.`));\n    }\n\n    if(typeof define === \"function\" && define.amd) {\n      requirejs.config({paths});\n      require([\"vega-embed\"], displayChart, err => showError(`Error loading script: ${err.message}`));\n    } else {\n      maybeLoadScript(\"vega\", \"5\")\n        .then(() => maybeLoadScript(\"vega-lite\", \"4.17.0\"))\n        .then(() => maybeLoadScript(\"vega-embed\", \"6\"))\n        .catch(showError)\n        .then(() => displayChart(vegaEmbed));\n    }\n  })({\"config\": {\"view\": {\"continuousWidth\": 400, \"continuousHeight\": 300}}, \"data\": {\"name\": \"data-53b1f23ea2b972bf197c091e61a6bea4\"}, \"mark\": \"bar\", \"encoding\": {\"color\": {\"field\": \"counts\", \"type\": \"quantitative\"}, \"x\": {\"field\": \"counts\", \"type\": \"quantitative\"}, \"y\": {\"field\": \"Hire_date\", \"type\": \"nominal\"}}, \"$schema\": \"https://vega.github.io/schema/vega-lite/v4.17.0.json\", \"datasets\": {\"data-53b1f23ea2b972bf197c091e61a6bea4\": [{\"Hire_date\": \"1970-04-14\", \"counts\": 1}, {\"Hire_date\": \"2002-09-04\", \"counts\": 1}, {\"Hire_date\": \"2007-01-13\", \"counts\": 1}, {\"Hire_date\": \"2006-11-24\", \"counts\": 1}, {\"Hire_date\": \"2006-01-10\", \"counts\": 1}, {\"Hire_date\": \"2005-10-07\", \"counts\": 1}, {\"Hire_date\": \"2004-04-06\", \"counts\": 1}, {\"Hire_date\": \"2003-12-12\", \"counts\": 1}, {\"Hire_date\": \"2003-10-30\", \"counts\": 1}, {\"Hire_date\": \"2003-06-21\", \"counts\": 1}, {\"Hire_date\": \"2003-05-17\", \"counts\": 1}, {\"Hire_date\": \"2002-09-17\", \"counts\": 1}, {\"Hire_date\": \"2001-02-07\", \"counts\": 1}, {\"Hire_date\": \"1971-03-30\", \"counts\": 1}, {\"Hire_date\": \"2000-08-17\", \"counts\": 1}, {\"Hire_date\": \"2000-03-16\", \"counts\": 1}, {\"Hire_date\": \"2000-02-10\", \"counts\": 1}, {\"Hire_date\": \"1999-12-08\", \"counts\": 1}, {\"Hire_date\": \"1999-08-19\", \"counts\": 1}, {\"Hire_date\": \"1998-09-03\", \"counts\": 1}, {\"Hire_date\": \"1998-06-29\", \"counts\": 1}, {\"Hire_date\": \"1998-04-04\", \"counts\": 1}, {\"Hire_date\": \"1998-01-02\", \"counts\": 1}, {\"Hire_date\": \"1997-07-11\", \"counts\": 1}, {\"Hire_date\": \"2007-04-01\", \"counts\": 1}]}}, {\"mode\": \"vega-lite\"});\n</script>",
      "text/plain": "alt.Chart(...)"
     },
     "execution_count": 8,
     "metadata": {},
     "output_type": "execute_result"
    }
   ],
   "source": [
    "import pandas as pd\n",
    "import altair as alt\n",
    "\n",
    "doc = pd.read_csv('workers.csv', usecols=['Hire_date'])\n",
    "\n",
    "dwo = pd.DataFrame(doc)\n",
    "\n",
    "data = pd.DataFrame(dwo.value_counts(ascending=False).iloc[:25])\n",
    "\n",
    "alt.Chart(data.reset_index().rename(columns={0:\"counts\"})).mark_bar().encode(\n",
    "   x='counts',\n",
    "   y='Hire_date', color ='counts'\n",
    ")"
   ]
  },
  {
   "cell_type": "code",
   "execution_count": 9,
   "outputs": [
    {
     "name": "stderr",
     "output_type": "stream",
     "text": [
      "C:\\Users\\kaczm\\PycharmProjects\\staticticInPython\\venv\\lib\\site-packages\\altair\\utils\\core.py:317: FutureWarning: iteritems is deprecated and will be removed in a future version. Use .items instead.\n",
      "  for col_name, dtype in df.dtypes.iteritems():\n"
     ]
    },
    {
     "data": {
      "text/html": "\n<div id=\"altair-viz-37ba63faddb4488da1db6caf62a88ed9\"></div>\n<script type=\"text/javascript\">\n  var VEGA_DEBUG = (typeof VEGA_DEBUG == \"undefined\") ? {} : VEGA_DEBUG;\n  (function(spec, embedOpt){\n    let outputDiv = document.currentScript.previousElementSibling;\n    if (outputDiv.id !== \"altair-viz-37ba63faddb4488da1db6caf62a88ed9\") {\n      outputDiv = document.getElementById(\"altair-viz-37ba63faddb4488da1db6caf62a88ed9\");\n    }\n    const paths = {\n      \"vega\": \"https://cdn.jsdelivr.net/npm//vega@5?noext\",\n      \"vega-lib\": \"https://cdn.jsdelivr.net/npm//vega-lib?noext\",\n      \"vega-lite\": \"https://cdn.jsdelivr.net/npm//vega-lite@4.17.0?noext\",\n      \"vega-embed\": \"https://cdn.jsdelivr.net/npm//vega-embed@6?noext\",\n    };\n\n    function maybeLoadScript(lib, version) {\n      var key = `${lib.replace(\"-\", \"\")}_version`;\n      return (VEGA_DEBUG[key] == version) ?\n        Promise.resolve(paths[lib]) :\n        new Promise(function(resolve, reject) {\n          var s = document.createElement('script');\n          document.getElementsByTagName(\"head\")[0].appendChild(s);\n          s.async = true;\n          s.onload = () => {\n            VEGA_DEBUG[key] = version;\n            return resolve(paths[lib]);\n          };\n          s.onerror = () => reject(`Error loading script: ${paths[lib]}`);\n          s.src = paths[lib];\n        });\n    }\n\n    function showError(err) {\n      outputDiv.innerHTML = `<div class=\"error\" style=\"color:red;\">${err}</div>`;\n      throw err;\n    }\n\n    function displayChart(vegaEmbed) {\n      vegaEmbed(outputDiv, spec, embedOpt)\n        .catch(err => showError(`Javascript Error: ${err.message}<br>This usually means there's a typo in your chart specification. See the javascript console for the full traceback.`));\n    }\n\n    if(typeof define === \"function\" && define.amd) {\n      requirejs.config({paths});\n      require([\"vega-embed\"], displayChart, err => showError(`Error loading script: ${err.message}`));\n    } else {\n      maybeLoadScript(\"vega\", \"5\")\n        .then(() => maybeLoadScript(\"vega-lite\", \"4.17.0\"))\n        .then(() => maybeLoadScript(\"vega-embed\", \"6\"))\n        .catch(showError)\n        .then(() => displayChart(vegaEmbed));\n    }\n  })({\"config\": {\"view\": {\"continuousWidth\": 400, \"continuousHeight\": 300}}, \"data\": {\"name\": \"data-1f337175e88ed3874706057950169d52\"}, \"mark\": {\"type\": \"bar\", \"orient\": \"vertical\"}, \"encoding\": {\"color\": {\"field\": \"counts\", \"type\": \"quantitative\"}, \"x\": {\"field\": \"Hire_date\", \"type\": \"quantitative\"}, \"y\": {\"field\": \"counts\", \"type\": \"quantitative\"}}, \"$schema\": \"https://vega.github.io/schema/vega-lite/v4.17.0.json\", \"datasets\": {\"data-1f337175e88ed3874706057950169d52\": [{\"Hire_date\": 1970, \"counts\": 1}, {\"Hire_date\": 1971, \"counts\": 1}, {\"Hire_date\": 1972, \"counts\": 1}, {\"Hire_date\": 1973, \"counts\": 2}, {\"Hire_date\": 1974, \"counts\": 2}, {\"Hire_date\": 1975, \"counts\": 3}, {\"Hire_date\": 1976, \"counts\": 3}, {\"Hire_date\": 1977, \"counts\": 1}, {\"Hire_date\": 1978, \"counts\": 3}, {\"Hire_date\": 1979, \"counts\": 3}, {\"Hire_date\": 1980, \"counts\": 1}, {\"Hire_date\": 1982, \"counts\": 2}, {\"Hire_date\": 1983, \"counts\": 2}, {\"Hire_date\": 1984, \"counts\": 4}, {\"Hire_date\": 1985, \"counts\": 2}, {\"Hire_date\": 1987, \"counts\": 3}, {\"Hire_date\": 1988, \"counts\": 4}, {\"Hire_date\": 1992, \"counts\": 2}, {\"Hire_date\": 1993, \"counts\": 3}, {\"Hire_date\": 1994, \"counts\": 3}, {\"Hire_date\": 1995, \"counts\": 1}, {\"Hire_date\": 1996, \"counts\": 4}, {\"Hire_date\": 1997, \"counts\": 2}, {\"Hire_date\": 1998, \"counts\": 4}, {\"Hire_date\": 1999, \"counts\": 2}, {\"Hire_date\": 2000, \"counts\": 3}, {\"Hire_date\": 2001, \"counts\": 1}, {\"Hire_date\": 2002, \"counts\": 2}, {\"Hire_date\": 2003, \"counts\": 4}, {\"Hire_date\": 2004, \"counts\": 1}, {\"Hire_date\": 2005, \"counts\": 1}, {\"Hire_date\": 2006, \"counts\": 2}, {\"Hire_date\": 2007, \"counts\": 2}, {\"Hire_date\": 2008, \"counts\": 3}, {\"Hire_date\": 2009, \"counts\": 1}, {\"Hire_date\": 2010, \"counts\": 2}, {\"Hire_date\": 2011, \"counts\": 2}, {\"Hire_date\": 2013, \"counts\": 3}, {\"Hire_date\": 2014, \"counts\": 2}, {\"Hire_date\": 2015, \"counts\": 4}, {\"Hire_date\": 2016, \"counts\": 1}, {\"Hire_date\": 2017, \"counts\": 1}, {\"Hire_date\": 2019, \"counts\": 1}, {\"Hire_date\": 2020, \"counts\": 1}, {\"Hire_date\": 2021, \"counts\": 2}, {\"Hire_date\": 2022, \"counts\": 2}]}}, {\"mode\": \"vega-lite\"});\n</script>",
      "text/plain": "alt.Chart(...)"
     },
     "execution_count": 9,
     "metadata": {},
     "output_type": "execute_result"
    }
   ],
   "source": [
    "df = dwo\n",
    "df = df.groupby(df['Hire_date'].map(lambda x: pd.Timestamp(x).year)).count()\n",
    "df = df.rename(columns={'Hire_date': 'counts'})\n",
    "df[\"counts\"] = df[\"counts\"].astype('int32')\n",
    "df = df.reset_index(level=0)\n",
    "alt.Chart(df).mark_bar(orient='vertical').encode(\n",
    "    alt.X('Hire_date'), y='counts', color='counts'\n",
    ")"
   ],
   "metadata": {
    "collapsed": false
   }
  }
 ],
 "metadata": {
  "kernelspec": {
   "display_name": "Python 3",
   "language": "python",
   "name": "python3"
  },
  "language_info": {
   "codemirror_mode": {
    "name": "ipython",
    "version": 2
   },
   "file_extension": ".py",
   "mimetype": "text/x-python",
   "name": "python",
   "nbconvert_exporter": "python",
   "pygments_lexer": "ipython2",
   "version": "2.7.6"
  }
 },
 "nbformat": 4,
 "nbformat_minor": 0
}
