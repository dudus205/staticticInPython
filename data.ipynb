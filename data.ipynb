{
 "cells": [
  {
   "cell_type": "markdown",
   "source": [
    "Piotr Kaczmarczyk - factory generator project"
   ],
   "metadata": {
    "collapsed": false
   }
  },
  {
   "cell_type": "markdown",
   "source": [
    "Imports and global."
   ],
   "metadata": {
    "collapsed": false
   }
  },
  {
   "cell_type": "code",
   "execution_count": 9,
   "outputs": [],
   "source": [
    "from faker import Faker\n",
    "import pandas as pd\n",
    "import numpy as np\n",
    "\n",
    "fake = Faker(['it_IT'])"
   ],
   "metadata": {
    "collapsed": false
   }
  },
  {
   "cell_type": "markdown",
   "source": [
    "Data generators."
   ],
   "metadata": {
    "collapsed": false
   }
  },
  {
   "cell_type": "code",
   "execution_count": 22,
   "outputs": [],
   "source": [
    "def workers(iterations):\n",
    "    groups = [fake.color_name(), fake.color_name(), fake.color_name(), fake.color_name(), fake.color_name()]\n",
    "    full_time = round(iterations / 2)\n",
    "    half_time = round(iterations / 3)\n",
    "    part_time = round(iterations - full_time - half_time)\n",
    "    workers_dictionary = []\n",
    "\n",
    "    for i in range(iterations):\n",
    "        if full_time > 0:\n",
    "            work_type = \"Full time\"\n",
    "            full_time = full_time - 1\n",
    "        elif half_time > 0:\n",
    "            work_type = \"Half time\"\n",
    "            half_time = half_time - 1\n",
    "        elif part_time > 0:\n",
    "            work_type = \"Part time\"\n",
    "            part_time = part_time - 1\n",
    "\n",
    "        workers_dictionary.append([fake.random_int() * fake.random_int(1, 5),\n",
    "                                   fake.name(),\n",
    "                                   groups[fake.random_int(0, 4)],\n",
    "                                   fake.date(),  # date default is -30 years\n",
    "                                   work_type\n",
    "                                   ])\n",
    "\n",
    "    workers_df = pd.DataFrame(workers_dictionary,\n",
    "                              columns=['id', 'name', 'team', 'date_of_employment', 'employment_type'])\n",
    "    return workers_df\n",
    "\n",
    "\n",
    "def parts(iterations):\n",
    "    steps = {}\n",
    "    for i in range(iterations):\n",
    "        steps[i] = {id(fake.random_int()): [np.random.gamma(2, 2, 1)[0],\n",
    "                                            np.random.normal(2, 2, 1)[0],\n",
    "                                            np.random.exponential(2, 1)[0]\n",
    "                                            ]}\n",
    "    return steps\n",
    "\n",
    "\n",
    "def item_list(worker, part):\n",
    "    items = []\n",
    "\n",
    "    for index_worker in range(len(worker)):\n",
    "        index_item = 1\n",
    "        if worker['employment_type'][index_worker] == \"Full time\":\n",
    "            amount = fake.random_int(500, 1000)\n",
    "        elif worker['employment_type'][index_worker] == \"Half time\":\n",
    "            amount = fake.random_int(100, 500)\n",
    "        else:\n",
    "            amount = fake.random_int(1, 1000)\n",
    "        # index_item = 1\n",
    "        for index_item in range(amount):\n",
    "            items.append([\n",
    "                str(part[index_item].keys())[11:24] + \" - \" + str(index_worker),\n",
    "                part[index_item][int(str(part[index_item].keys())[11:24])][0],\n",
    "                part[index_item][int(str(part[index_item].keys())[11:24])][1],\n",
    "                part[index_item][int(str(part[index_item].keys())[11:24])][2],\n",
    "                index_worker\n",
    "            ])\n",
    "            if index_item >= len(part) - 1:\n",
    "                break\n",
    "\n",
    "    amount_df = pd.DataFrame(items, columns=['item_number', 'step_1', 'step_2', 'step_3', 'employee_id'])\n",
    "    return amount_df\n",
    "\n",
    "\n",
    "def parameters_of_data(data_set):\n",
    "    print(\"\\nHead function \")\n",
    "    print(data_set.head())\n",
    "    print(\"\\nNunique function\")\n",
    "    print(data_set.nunique())\n",
    "    print(\"\\nIsnull function\")\n",
    "    print(data_set.isnull())\n",
    "    print(\"\\nDescribe function\")\n",
    "    print(data_set.describe())\n",
    "    print(\"\\nInfo function\")\n",
    "    print(data_set.info())"
   ],
   "metadata": {
    "collapsed": false
   }
  },
  {
   "cell_type": "markdown",
   "source": [
    "Main function, execution of data creators"
   ],
   "metadata": {
    "collapsed": false
   }
  },
  {
   "cell_type": "code",
   "execution_count": 1,
   "outputs": [
    {
     "ename": "NameError",
     "evalue": "name 'workers' is not defined",
     "output_type": "error",
     "traceback": [
      "\u001B[1;31m---------------------------------------------------------------------------\u001B[0m",
      "\u001B[1;31mNameError\u001B[0m                                 Traceback (most recent call last)",
      "Cell \u001B[1;32mIn [1], line 2\u001B[0m\n\u001B[0;32m      1\u001B[0m \u001B[38;5;28;01mif\u001B[39;00m \u001B[38;5;18m__name__\u001B[39m \u001B[38;5;241m==\u001B[39m \u001B[38;5;124m'\u001B[39m\u001B[38;5;124m__main__\u001B[39m\u001B[38;5;124m'\u001B[39m:\n\u001B[1;32m----> 2\u001B[0m     company \u001B[38;5;241m=\u001B[39m \u001B[43mworkers\u001B[49m(\u001B[38;5;241m1000\u001B[39m)\n\u001B[0;32m      3\u001B[0m     parts \u001B[38;5;241m=\u001B[39m parts(\u001B[38;5;241m1000\u001B[39m)\n\u001B[0;32m      4\u001B[0m     itemProduction \u001B[38;5;241m=\u001B[39m item_list(company, parts)\n",
      "\u001B[1;31mNameError\u001B[0m: name 'workers' is not defined"
     ]
    }
   ],
   "source": [
    "if __name__ == '__main__':\n",
    "    company = workers(1000)\n",
    "    parts = parts(1000)\n",
    "    itemProduction = item_list(company, parts)\n",
    "\n",
    "    company.to_csv(\"workers.csv\")\n",
    "    itemProduction.to_csv(\"widgets.csv\")\n",
    "\n",
    "    workers = pd.read_csv(\"workers.csv\")\n",
    "    widgets = pd.read_csv(\"widgets.csv\")\n",
    "\n",
    "    parameters_of_data(workers)"
   ],
   "metadata": {
    "collapsed": false
   }
  },
  {
   "cell_type": "code",
   "execution_count": null,
   "outputs": [],
   "source": [],
   "metadata": {
    "collapsed": false
   }
  }
 ],
 "metadata": {
  "kernelspec": {
   "display_name": "Python 3",
   "language": "python",
   "name": "python3"
  },
  "language_info": {
   "codemirror_mode": {
    "name": "ipython",
    "version": 2
   },
   "file_extension": ".py",
   "mimetype": "text/x-python",
   "name": "python",
   "nbconvert_exporter": "python",
   "pygments_lexer": "ipython2",
   "version": "2.7.6"
  }
 },
 "nbformat": 4,
 "nbformat_minor": 0
}
